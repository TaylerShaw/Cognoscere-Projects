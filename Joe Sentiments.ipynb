{
 "cells": [
  {
   "cell_type": "markdown",
   "metadata": {},
   "source": [
    "# Sentiment Analysis: Joe"
   ]
  },
  {
   "cell_type": "markdown",
   "metadata": {},
   "source": [
    "### Imports"
   ]
  },
  {
   "cell_type": "code",
   "execution_count": 17,
   "metadata": {},
   "outputs": [],
   "source": [
    "import pandas as pd\n",
    "import re, string, unicodedata\n",
    "import warnings\n",
    "from pandas.core.common import SettingWithCopyWarning\n",
    "warnings.simplefilter(action=\"ignore\", category=SettingWithCopyWarning)\n",
    "warnings.simplefilter(action='ignore', category=FutureWarning)\n",
    "warnings.filterwarnings(\"ignore\", category=DeprecationWarning) "
   ]
  },
  {
   "cell_type": "markdown",
   "metadata": {},
   "source": [
    "### Read in the data"
   ]
  },
  {
   "cell_type": "code",
   "execution_count": 18,
   "metadata": {},
   "outputs": [],
   "source": [
    "df =pd.read_csv('user_ids and their posts.csv')\n",
    "pd.set_option('display.max_colwidth', -1)"
   ]
  },
  {
   "cell_type": "markdown",
   "metadata": {},
   "source": [
    "### Functions to clean data"
   ]
  },
  {
   "cell_type": "code",
   "execution_count": 19,
   "metadata": {},
   "outputs": [],
   "source": [
    "def clean_content(df):\n",
    "    \"\"\"\n",
    "    Cleans up the column by removing incidents of '\\r', '\\n' and, '\\n\\n' in a dataframe\n",
    "    simply pass in a dataframe with 'content column'\n",
    "    \"\"\"\n",
    "    df['content'] = df['content'].apply(lambda x: x.replace('\\n',' ')) \n",
    "    df['content'] = df['content'].apply(lambda x: x.replace('\\r',' '))\n",
    "    df['content'] = df['content'].apply(lambda x: x.replace('\\n\\n',' '))\n",
    "    df['content'] = df['content'].apply(lambda x: x.replace('\\r\\n',' '))\n",
    "    df['content'] = df['content'].apply(lambda x: x.replace('34',' '))\n",
    "    df['content'] = df['content'].apply(lambda x: x.replace('39',' '))"
   ]
  },
  {
   "cell_type": "code",
   "execution_count": 20,
   "metadata": {},
   "outputs": [],
   "source": [
    "def clean_string(string):\n",
    "    \"\"\"\n",
    "    Removes unsightly html code in a given string\n",
    "    \"\"\"\n",
    "    string = string.lower()\n",
    "    string = re.sub(r\"http\\S+\", \"\", string)\n",
    "#     clean0 = re.compile(r'</code></pre>')\n",
    "#     out = re.sub(clean0,' ', string)\n",
    "    clean = re.compile('<.*?>')\n",
    "    out = re.sub(clean,' ', string)\n",
    "    clean1 = r'^https?:\\/\\/.*[\\r\\n]*'\n",
    "    out = re.sub(clean1,' ', out)\n",
    "    clean2 = re.compile(r'[^\\w\\s]')\n",
    "    out = re.sub(clean2,' ', out)\n",
    "    return out"
   ]
  },
  {
   "cell_type": "code",
   "execution_count": 21,
   "metadata": {},
   "outputs": [
    {
     "data": {
      "text/plain": [
       "'You all cannot expand contractions I would think'"
      ]
     },
     "execution_count": 21,
     "metadata": {},
     "output_type": "execute_result"
    }
   ],
   "source": [
    "# dictionary of all possible contractions\n",
    "CONTRACTION_MAP = {\n",
    "\"ain't\": \"is not\",\"aren't\": \"are not\",\"can't\": \"cannot\",\"can't've\": \"cannot have\",\"'cause\": \"because\",\n",
    "\"could've\": \"could have\",\"couldn't\": \"could not\",\"couldn't've\": \"could not have\",\"didn't\": \"did not\",\n",
    "\"doesn't\": \"does not\",\"don't\": \"do not\",\"hadn't\": \"had not\",\"hadn't've\": \"had not have\",\"hasn't\": \"has not\",\n",
    "\"haven't\": \"have not\",\"he'd\": \"he would\",\"he'd've\": \"he would have\",\"he'll\": \"he will\",\"he'll've\": \"he he will have\",\n",
    "\"he's\": \"he is\",\"how'd\": \"how did\",\"how'd'y\": \"how do you\",\"how'll\": \"how will\",\"how's\": \"how is\",\"I'd\": \"I would\",\n",
    "\"I'd've\": \"I would have\",\"I'll\": \"I will\",\"I'll've\": \"I will have\",\"I'm\": \"I am\",\"I've\": \"I have\",\"i'd\": \"i would\",\n",
    "\"i'd've\": \"i would have\",\"i'll\": \"i will\",\"i'll've\": \"i will have\",\"i'm\": \"i am\",\"i've\": \"i have\",\"isn't\": \"is not\",\n",
    "\"it'd\": \"it would\",\"it'd've\": \"it would have\",\"it'll\": \"it will\",\"it'll've\": \"it will have\",\"it's\": \"it is\",\n",
    "\"let's\": \"let us\",\"ma'am\": \"madam\",\"mayn't\": \"may not\",\"might've\": \"might have\",\"mightn't\": \"might not\",\n",
    "\"mightn't've\": \"might not have\",\"must've\": \"must have\",\"mustn't\": \"must not\",\"mustn't've\": \"must not have\",\n",
    "\"needn't\": \"need not\",\"needn't've\": \"need not have\",\"o'clock\": \"of the clock\",\"oughtn't\": \"ought not\",\n",
    "\"oughtn't've\": \"ought not have\",\"shan't\": \"shall not\",\"sha'n't\": \"shall not\",\"shan't've\": \"shall not have\",\n",
    "\"she'd\": \"she would\",\"she'd've\": \"she would have\",\"she'll\": \"she will\",\"she'll've\": \"she will have\",\"she's\": \"she is\",\n",
    "\"should've\": \"should have\",\"shouldn't\": \"should not\",\"shouldn't've\": \"should not have\",\"so've\": \"so have\",\n",
    "\"so's\": \"so as\",\"that'd\": \"that would\",\"that'd've\": \"that would have\",\"that's\": \"that is\",\"there'd\": \"there would\",\n",
    "\"there'd've\": \"there would have\",\"there's\": \"there is\",\"they'd\": \"they would\",\"they'd've\": \"they would have\",\n",
    "\"they'll\": \"they will\",\"they'll've\": \"they will have\",\"they're\": \"they are\",\"they've\": \"they have\",\"to've\": \"to have\",\n",
    "\"wasn't\": \"was not\",\"we'd\": \"we would\",\"we'd've\": \"we would have\",\"we'll\": \"we will\",\"we'll've\": \"we will have\",\n",
    "\"we're\": \"we are\",\"we've\": \"we have\",\"weren't\": \"were not\",\"what'll\": \"what will\",\"what'll've\": \"what will have\",\n",
    "\"what're\": \"what are\",\"what's\": \"what is\",\"what've\": \"what have\",\"when's\": \"when is\",\"when've\": \"when have\",\n",
    "\"where'd\": \"where did\",\"where's\": \"where is\",\"where've\": \"where have\",\"who'll\": \"who will\",\n",
    "\"who'll've\": \"who will have\",\"who's\": \"who is\",\"who've\": \"who have\",\"why's\": \"why is\",\"why've\": \"why have\",\n",
    "\"will've\": \"will have\",\"won't\": \"will not\",\"won't've\": \"will not have\",\"would've\": \"would have\",\n",
    "\"wouldn't\": \"would not\",\"wouldn't've\": \"would not have\",\"y'all\": \"you all\",\"y'all'd\": \"you all would\",\n",
    "\"y'all'd've\": \"you all would have\",\"y'all're\": \"you all are\",\"y'all've\": \"you all have\",\"you'd\": \"you would\",\n",
    "\"you'd've\": \"you would have\",\"you'll\": \"you will\",\"you'll've\": \"you will have\",\"you're\": \"you are\",\"you've\": \"you have\"\n",
    "}\n",
    "\n",
    "# function to expand contractions in text\n",
    "def expand_contractions(text, contraction_mapping=CONTRACTION_MAP):\n",
    "    \"\"\"\n",
    "    Expands any contractions within a given string\n",
    "    \"\"\"\n",
    "\n",
    "    contractions_pattern = re.compile('({})'.format('|'.join(contraction_mapping.keys())), \n",
    "                                      flags=re.IGNORECASE|re.DOTALL)\n",
    "    def expand_match(contraction):\n",
    "        match = contraction.group(0)\n",
    "        first_char = match[0]\n",
    "        expanded_contraction = contraction_mapping.get(match)\\\n",
    "                                if contraction_mapping.get(match)\\\n",
    "                                else contraction_mapping.get(match.lower())\n",
    "        expanded_contraction = first_char+expanded_contraction[1:]\n",
    "        return expanded_contraction\n",
    "\n",
    "    expanded_text = contractions_pattern.sub(expand_match, text)\n",
    "    expanded_text = re.sub(\"'\", \"\", expanded_text)\n",
    "    return expanded_text\n",
    "\n",
    "expand_contractions(\"Y'all can't expand contractions I'd think\")"
   ]
  },
  {
   "cell_type": "markdown",
   "metadata": {},
   "source": [
    "### Cleaning up Joe's comments"
   ]
  },
  {
   "cell_type": "code",
   "execution_count": 22,
   "metadata": {},
   "outputs": [
    {
     "data": {
      "text/html": [
       "<div>\n",
       "<style scoped>\n",
       "    .dataframe tbody tr th:only-of-type {\n",
       "        vertical-align: middle;\n",
       "    }\n",
       "\n",
       "    .dataframe tbody tr th {\n",
       "        vertical-align: top;\n",
       "    }\n",
       "\n",
       "    .dataframe thead th {\n",
       "        text-align: right;\n",
       "    }\n",
       "</style>\n",
       "<table border=\"1\" class=\"dataframe\">\n",
       "  <thead>\n",
       "    <tr style=\"text-align: right;\">\n",
       "      <th></th>\n",
       "      <th>content</th>\n",
       "    </tr>\n",
       "  </thead>\n",
       "  <tbody>\n",
       "    <tr>\n",
       "      <td>0</td>\n",
       "      <td>yeah  not masks haha</td>\n",
       "    </tr>\n",
       "    <tr>\n",
       "      <td>1</td>\n",
       "      <td>right wing  selfish  and reckless tiger refuses to double mask even to protect other residents of sanctuary     cnn</td>\n",
       "    </tr>\n",
       "    <tr>\n",
       "      <td>2</td>\n",
       "      <td>check this out</td>\n",
       "    </tr>\n",
       "    <tr>\n",
       "      <td>3</td>\n",
       "      <td>lemmings  rude lemmings  some people are just trash and you should be content that you would not do the same to them     i think that people that jog with a mask on are stupid myself  do not do that     these same kids probably wear their mask in the car alone  and in bed alone at night hahaha</td>\n",
       "    </tr>\n",
       "    <tr>\n",
       "      <td>4</td>\n",
       "      <td>elon musk is science denier     reeeeeeeeeeeeeee</td>\n",
       "    </tr>\n",
       "  </tbody>\n",
       "</table>\n",
       "</div>"
      ],
      "text/plain": [
       "                                                                                                                                                                                                                                                                                                     content\n",
       "0   yeah  not masks haha                                                                                                                                                                                                                                                                                    \n",
       "1    right wing  selfish  and reckless tiger refuses to double mask even to protect other residents of sanctuary     cnn                                                                                                                                                                                    \n",
       "2   check this out                                                                                                                                                                                                                                                                                          \n",
       "3   lemmings  rude lemmings  some people are just trash and you should be content that you would not do the same to them     i think that people that jog with a mask on are stupid myself  do not do that     these same kids probably wear their mask in the car alone  and in bed alone at night hahaha  \n",
       "4   elon musk is science denier     reeeeeeeeeeeeeee                                                                                                                                                                                                                                                        "
      ]
     },
     "execution_count": 22,
     "metadata": {},
     "output_type": "execute_result"
    }
   ],
   "source": [
    "# html parser that properly encodes html text to a string that we can work with\n",
    "import html.parser as htmlparser\n",
    "parser = htmlparser.HTMLParser()\n",
    "\n",
    "joe_clean = []\n",
    "joe_cleaner = []\n",
    "joe_cleanest = []\n",
    "\n",
    "# loop through data and extract joe's comments\n",
    "for i in df['cab6d19d22ec4bdfad4f99760d33312b']:\n",
    "    # use html parser on joes comments\n",
    "    joe_clean.append(parser.unescape(str(i)))\n",
    "\n",
    "for i in joe_clean:\n",
    "    # use expand contractions on joe's comments\n",
    "    joe_cleaner.append(expand_contractions(str(i)))\n",
    "    \n",
    "for i in joe_cleaner:\n",
    "    #use clean string function on joe's comments\n",
    "    joe_cleanest.append(clean_string(str(i)))\n",
    "\n",
    "# create a dataframe of the processed joes comments\n",
    "df_joe = pd.DataFrame(joe_cleanest, columns=['content'])\n",
    "\n",
    "# make sure each comment is only instances of strings (found floats)\n",
    "df_joe['content']=  df_joe['content'].astype(str)\n",
    "\n",
    "# remove nans (dropna was not working)\n",
    "df_joe = df_joe[df_joe.content != 'nan']\n",
    "\n",
    "# run the joe dataframe through clean content function\n",
    "clean_content(df_joe)\n",
    "\n",
    "# look at the joe data\n",
    "df_joe.head()"
   ]
  },
  {
   "cell_type": "markdown",
   "metadata": {},
   "source": [
    "### Running sentiment analysis on Joe's comments"
   ]
  },
  {
   "cell_type": "code",
   "execution_count": 23,
   "metadata": {},
   "outputs": [
    {
     "name": "stderr",
     "output_type": "stream",
     "text": [
      "[nltk_data] Downloading package vader_lexicon to\n",
      "[nltk_data]     C:\\Users\\Dillon\\AppData\\Roaming\\nltk_data...\n",
      "[nltk_data]   Package vader_lexicon is already up-to-date!\n",
      "[nltk_data] Downloading package punkt to\n",
      "[nltk_data]     C:\\Users\\Dillon\\AppData\\Roaming\\nltk_data...\n",
      "[nltk_data]   Package punkt is already up-to-date!\n",
      "[nltk_data] Downloading package stopwords to\n",
      "[nltk_data]     C:\\Users\\Dillon\\AppData\\Roaming\\nltk_data...\n",
      "[nltk_data]   Package stopwords is already up-to-date!\n"
     ]
    }
   ],
   "source": [
    "#import natural language toolkit\n",
    "import nltk\n",
    "from nltk.corpus import stopwords\n",
    "from nltk.stem import PorterStemmer\n",
    "ps = PorterStemmer()\n",
    "from nltk.sentiment.vader import SentimentIntensityAnalyzer \n",
    "analyser = SentimentIntensityAnalyzer()\n",
    "from nltk.probability import FreqDist\n",
    "import string\n",
    "\n",
    "## import word tokenizer\n",
    "from nltk.tokenize import word_tokenize\n",
    "from nltk.sentiment.vader import SentimentIntensityAnalyzer \n",
    "\n",
    "# get lexicon \n",
    "nltk.download('vader_lexicon') \n",
    "nltk.download('punkt')\n",
    "nltk.download('stopwords')\n",
    "\n",
    "#specify dataframe here\n",
    "nltk_data = df_joe\n",
    "\n",
    "# tokenize, stem, and remove stop words\n",
    "nltk_data['token'] = nltk_data['content'].apply(word_tokenize)\n",
    "stop_words = set(stopwords.words('english'))\n",
    "nltk_data['stop'] = nltk_data['token'].apply(lambda x: [item for item in x if item not in stop_words])\n",
    "nltk_data['stem'] = nltk_data['stop'].apply(lambda x: [ps.stem(y) for y in x])\n",
    "stem_nltk_data = nltk_data['stem'].apply(pd.Series).stack()\n",
    "\n",
    "# calculate word frequency\n",
    "fdist_nltk_data = FreqDist(stem_nltk_data)\n",
    "\n",
    "# remove punctuation counts\n",
    "for punc in string.punctuation:\n",
    "    del fdist_nltk_data[punc]\n",
    "\n",
    "# get list of the 'content' (responses) \n",
    "nltk_data_list = list(nltk_data['content'].values)"
   ]
  },
  {
   "cell_type": "code",
   "execution_count": 24,
   "metadata": {},
   "outputs": [
    {
     "data": {
      "image/png": "[encoded data removed]",
      "text/plain": [
       "<Figure size 432x288 with 1 Axes>"
      ]
     },
     "metadata": {
      "needs_background": "light"
     },
     "output_type": "display_data"
    }
   ],
   "source": [
    "# Frequency Distribution Plot - top 20\n",
    "# run cell twice if freq dist plot doesn't appear\n",
    "fdist_nltk_data.plot(20, cumulative=False);"
   ]
  },
  {
   "cell_type": "code",
   "execution_count": 25,
   "metadata": {},
   "outputs": [],
   "source": [
    "# create function that will output dataframe \n",
    "# that stores sentiment information\n",
    "def get_sentiments(input_list):\n",
    "    \"\"\"\n",
    "    output dataframe that stores sentiment information\n",
    "    \"\"\"\n",
    "    output = pd.DataFrame()\n",
    "    \n",
    "    for sentence in input_list:\n",
    "        ss = analyser.polarity_scores(sentence)\n",
    "        ss['sentence'] = sentence\n",
    "        output = output.append(ss, ignore_index=True)\n",
    "\n",
    "    return output"
   ]
  },
  {
   "cell_type": "code",
   "execution_count": 26,
   "metadata": {},
   "outputs": [
    {
     "data": {
      "text/html": [
       "<div>\n",
       "<style scoped>\n",
       "    .dataframe tbody tr th:only-of-type {\n",
       "        vertical-align: middle;\n",
       "    }\n",
       "\n",
       "    .dataframe tbody tr th {\n",
       "        vertical-align: top;\n",
       "    }\n",
       "\n",
       "    .dataframe thead th {\n",
       "        text-align: right;\n",
       "    }\n",
       "</style>\n",
       "<table border=\"1\" class=\"dataframe\">\n",
       "  <thead>\n",
       "    <tr style=\"text-align: right;\">\n",
       "      <th></th>\n",
       "      <th>compound</th>\n",
       "      <th>neg</th>\n",
       "      <th>neu</th>\n",
       "      <th>pos</th>\n",
       "      <th>sentence</th>\n",
       "    </tr>\n",
       "  </thead>\n",
       "  <tbody>\n",
       "    <tr>\n",
       "      <td>0</td>\n",
       "      <td>-0.0721</td>\n",
       "      <td>0.371</td>\n",
       "      <td>0.299</td>\n",
       "      <td>0.329</td>\n",
       "      <td>yeah  not masks haha</td>\n",
       "    </tr>\n",
       "    <tr>\n",
       "      <td>1</td>\n",
       "      <td>-0.4939</td>\n",
       "      <td>0.248</td>\n",
       "      <td>0.641</td>\n",
       "      <td>0.111</td>\n",
       "      <td>right wing  selfish  and reckless tiger refuses to double mask even to protect other residents of sanctuary     cnn</td>\n",
       "    </tr>\n",
       "    <tr>\n",
       "      <td>2</td>\n",
       "      <td>0.0000</td>\n",
       "      <td>0.000</td>\n",
       "      <td>1.000</td>\n",
       "      <td>0.000</td>\n",
       "      <td>check this out</td>\n",
       "    </tr>\n",
       "    <tr>\n",
       "      <td>3</td>\n",
       "      <td>-0.7003</td>\n",
       "      <td>0.163</td>\n",
       "      <td>0.781</td>\n",
       "      <td>0.056</td>\n",
       "      <td>lemmings  rude lemmings  some people are just trash and you should be content that you would not do the same to them     i think that people that jog with a mask on are stupid myself  do not do that     these same kids probably wear their mask in the car alone  and in bed alone at night hahaha</td>\n",
       "    </tr>\n",
       "    <tr>\n",
       "      <td>4</td>\n",
       "      <td>-0.3612</td>\n",
       "      <td>0.333</td>\n",
       "      <td>0.667</td>\n",
       "      <td>0.000</td>\n",
       "      <td>elon musk is science denier     reeeeeeeeeeeeeee</td>\n",
       "    </tr>\n",
       "  </tbody>\n",
       "</table>\n",
       "</div>"
      ],
      "text/plain": [
       "   compound    neg    neu    pos  \\\n",
       "0 -0.0721    0.371  0.299  0.329   \n",
       "1 -0.4939    0.248  0.641  0.111   \n",
       "2  0.0000    0.000  1.000  0.000   \n",
       "3 -0.7003    0.163  0.781  0.056   \n",
       "4 -0.3612    0.333  0.667  0.000   \n",
       "\n",
       "                                                                                                                                                                                                                                                                                                    sentence  \n",
       "0   yeah  not masks haha                                                                                                                                                                                                                                                                                      \n",
       "1    right wing  selfish  and reckless tiger refuses to double mask even to protect other residents of sanctuary     cnn                                                                                                                                                                                      \n",
       "2   check this out                                                                                                                                                                                                                                                                                            \n",
       "3   lemmings  rude lemmings  some people are just trash and you should be content that you would not do the same to them     i think that people that jog with a mask on are stupid myself  do not do that     these same kids probably wear their mask in the car alone  and in bed alone at night hahaha    \n",
       "4   elon musk is science denier     reeeeeeeeeeeeeee                                                                                                                                                                                                                                                          "
      ]
     },
     "execution_count": 26,
     "metadata": {},
     "output_type": "execute_result"
    }
   ],
   "source": [
    "# use the get sentiments function on nltk processed joe data\n",
    "nltk_data_sentiments = get_sentiments(nltk_data_list)\n",
    "nltk_data_sentiments.head()"
   ]
  },
  {
   "cell_type": "code",
   "execution_count": 27,
   "metadata": {},
   "outputs": [
    {
     "data": {
      "text/html": [
       "<div>\n",
       "<style scoped>\n",
       "    .dataframe tbody tr th:only-of-type {\n",
       "        vertical-align: middle;\n",
       "    }\n",
       "\n",
       "    .dataframe tbody tr th {\n",
       "        vertical-align: top;\n",
       "    }\n",
       "\n",
       "    .dataframe thead th {\n",
       "        text-align: right;\n",
       "    }\n",
       "</style>\n",
       "<table border=\"1\" class=\"dataframe\">\n",
       "  <thead>\n",
       "    <tr style=\"text-align: right;\">\n",
       "      <th></th>\n",
       "      <th>content</th>\n",
       "      <th>stem</th>\n",
       "      <th>pos</th>\n",
       "      <th>neg</th>\n",
       "      <th>neu</th>\n",
       "      <th>compound</th>\n",
       "    </tr>\n",
       "  </thead>\n",
       "  <tbody>\n",
       "    <tr>\n",
       "      <td>0</td>\n",
       "      <td>yeah  not masks haha</td>\n",
       "      <td>[yeah, mask, haha]</td>\n",
       "      <td>0.329</td>\n",
       "      <td>0.371</td>\n",
       "      <td>0.299</td>\n",
       "      <td>-0.0721</td>\n",
       "    </tr>\n",
       "    <tr>\n",
       "      <td>1</td>\n",
       "      <td>right wing  selfish  and reckless tiger refuses to double mask even to protect other residents of sanctuary     cnn</td>\n",
       "      <td>[right, wing, selfish, reckless, tiger, refus, doubl, mask, even, protect, resid, sanctuari, cnn]</td>\n",
       "      <td>0.111</td>\n",
       "      <td>0.248</td>\n",
       "      <td>0.641</td>\n",
       "      <td>-0.4939</td>\n",
       "    </tr>\n",
       "    <tr>\n",
       "      <td>2</td>\n",
       "      <td>check this out</td>\n",
       "      <td>[check]</td>\n",
       "      <td>0.000</td>\n",
       "      <td>0.000</td>\n",
       "      <td>1.000</td>\n",
       "      <td>0.0000</td>\n",
       "    </tr>\n",
       "    <tr>\n",
       "      <td>3</td>\n",
       "      <td>lemmings  rude lemmings  some people are just trash and you should be content that you would not do the same to them     i think that people that jog with a mask on are stupid myself  do not do that     these same kids probably wear their mask in the car alone  and in bed alone at night hahaha</td>\n",
       "      <td>[lem, rude, lem, peopl, trash, content, would, think, peopl, jog, mask, stupid, kid, probabl, wear, mask, car, alon, bed, alon, night, hahaha]</td>\n",
       "      <td>0.056</td>\n",
       "      <td>0.163</td>\n",
       "      <td>0.781</td>\n",
       "      <td>-0.7003</td>\n",
       "    </tr>\n",
       "    <tr>\n",
       "      <td>4</td>\n",
       "      <td>elon musk is science denier     reeeeeeeeeeeeeee</td>\n",
       "      <td>[elon, musk, scienc, denier, reeeeeeeeeeeeeee]</td>\n",
       "      <td>0.000</td>\n",
       "      <td>0.333</td>\n",
       "      <td>0.667</td>\n",
       "      <td>-0.3612</td>\n",
       "    </tr>\n",
       "  </tbody>\n",
       "</table>\n",
       "</div>"
      ],
      "text/plain": [
       "                                                                                                                                                                                                                                                                                                     content  \\\n",
       "0   yeah  not masks haha                                                                                                                                                                                                                                                                                       \n",
       "1    right wing  selfish  and reckless tiger refuses to double mask even to protect other residents of sanctuary     cnn                                                                                                                                                                                       \n",
       "2   check this out                                                                                                                                                                                                                                                                                             \n",
       "3   lemmings  rude lemmings  some people are just trash and you should be content that you would not do the same to them     i think that people that jog with a mask on are stupid myself  do not do that     these same kids probably wear their mask in the car alone  and in bed alone at night hahaha     \n",
       "4   elon musk is science denier     reeeeeeeeeeeeeee                                                                                                                                                                                                                                                           \n",
       "\n",
       "                                                                                                                                             stem  \\\n",
       "0  [yeah, mask, haha]                                                                                                                               \n",
       "1  [right, wing, selfish, reckless, tiger, refus, doubl, mask, even, protect, resid, sanctuari, cnn]                                                \n",
       "2  [check]                                                                                                                                          \n",
       "3  [lem, rude, lem, peopl, trash, content, would, think, peopl, jog, mask, stupid, kid, probabl, wear, mask, car, alon, bed, alon, night, hahaha]   \n",
       "4  [elon, musk, scienc, denier, reeeeeeeeeeeeeee]                                                                                                   \n",
       "\n",
       "     pos    neg    neu  compound  \n",
       "0  0.329  0.371  0.299 -0.0721    \n",
       "1  0.111  0.248  0.641 -0.4939    \n",
       "2  0.000  0.000  1.000  0.0000    \n",
       "3  0.056  0.163  0.781 -0.7003    \n",
       "4  0.000  0.333  0.667 -0.3612    "
      ]
     },
     "execution_count": 27,
     "metadata": {},
     "output_type": "execute_result"
    }
   ],
   "source": [
    "# drop token and stop columns for nltk data and create pos, neg, neu, compound columns\n",
    "nltk_data_sent = nltk_data.drop(['token','stop'],axis=1)\\\n",
    ".assign(pos=nltk_data_sentiments['pos'])\\\n",
    ".assign(neg=nltk_data_sentiments['neg'])\\\n",
    ".assign(neu=nltk_data_sentiments['neu'])\\\n",
    ".assign(compound=nltk_data_sentiments['compound'])\n",
    "\n",
    "nltk_data_sent.head()"
   ]
  },
  {
   "cell_type": "code",
   "execution_count": 28,
   "metadata": {},
   "outputs": [
    {
     "data": {
      "text/plain": [
       "0.31602745901639334"
      ]
     },
     "execution_count": 28,
     "metadata": {},
     "output_type": "execute_result"
    }
   ],
   "source": [
    "# check out joes global sentiment score\n",
    "joe_global_sentiment = nltk_data_sent[\"compound\"].mean()\n",
    "joe_global_sentiment"
   ]
  },
  {
   "cell_type": "code",
   "execution_count": 29,
   "metadata": {},
   "outputs": [
    {
     "data": {
      "text/plain": [
       "136"
      ]
     },
     "execution_count": 29,
     "metadata": {},
     "output_type": "execute_result"
    }
   ],
   "source": [
    "# see where the most negative message is located\n",
    "nltk_data_sent['compound'].argmin()"
   ]
  },
  {
   "cell_type": "code",
   "execution_count": 30,
   "metadata": {},
   "outputs": [
    {
     "data": {
      "text/html": [
       "<div>\n",
       "<style scoped>\n",
       "    .dataframe tbody tr th:only-of-type {\n",
       "        vertical-align: middle;\n",
       "    }\n",
       "\n",
       "    .dataframe tbody tr th {\n",
       "        vertical-align: top;\n",
       "    }\n",
       "\n",
       "    .dataframe thead th {\n",
       "        text-align: right;\n",
       "    }\n",
       "</style>\n",
       "<table border=\"1\" class=\"dataframe\">\n",
       "  <thead>\n",
       "    <tr style=\"text-align: right;\">\n",
       "      <th></th>\n",
       "      <th>content</th>\n",
       "      <th>stem</th>\n",
       "      <th>pos</th>\n",
       "      <th>neg</th>\n",
       "      <th>neu</th>\n",
       "      <th>compound</th>\n",
       "    </tr>\n",
       "  </thead>\n",
       "  <tbody>\n",
       "    <tr>\n",
       "      <td>136</td>\n",
       "      <td>if we do not know the winner by monday morning  i will claim victory</td>\n",
       "      <td>[know, winner, monday, morn, claim, victori]</td>\n",
       "      <td>0.108</td>\n",
       "      <td>0.237</td>\n",
       "      <td>0.655</td>\n",
       "      <td>-0.9954</td>\n",
       "    </tr>\n",
       "  </tbody>\n",
       "</table>\n",
       "</div>"
      ],
      "text/plain": [
       "                                                                     content  \\\n",
       "136   if we do not know the winner by monday morning  i will claim victory     \n",
       "\n",
       "                                             stem    pos    neg    neu  \\\n",
       "136  [know, winner, monday, morn, claim, victori]  0.108  0.237  0.655   \n",
       "\n",
       "     compound  \n",
       "136 -0.9954    "
      ]
     },
     "execution_count": 30,
     "metadata": {},
     "output_type": "execute_result"
    }
   ],
   "source": [
    "# look at the most negative column\n",
    "nltk_data_sent.loc[[136]]"
   ]
  },
  {
   "cell_type": "markdown",
   "metadata": {},
   "source": [
    "### Happy Button"
   ]
  },
  {
   "cell_type": "code",
   "execution_count": 69,
   "metadata": {},
   "outputs": [],
   "source": [
    "def happy_button(df):\n",
    "    # Get a threshold from the user\n",
    "    start = input('Lower Threshold :\\t')\n",
    "    start = float(start)\n",
    "    stop = input('Upper Threshold :\\t')\n",
    "    stop = float(stop)\n",
    "    # Extract and return desired posts\n",
    "    df = df[(df['compound'] >= start) & (df['compound'] <= stop)]\n",
    "    return df[['content','compound']].sort_values('compound', ascending = False)"
   ]
  },
  {
   "cell_type": "code",
   "execution_count": 72,
   "metadata": {},
   "outputs": [
    {
     "name": "stdout",
     "output_type": "stream",
     "text": [
      "Lower Threshold :\t0.5\n",
      "Upper Threshold :\t1\n"
     ]
    },
    {
     "data": {
      "text/html": [
       "<div>\n",
       "<style scoped>\n",
       "    .dataframe tbody tr th:only-of-type {\n",
       "        vertical-align: middle;\n",
       "    }\n",
       "\n",
       "    .dataframe tbody tr th {\n",
       "        vertical-align: top;\n",
       "    }\n",
       "\n",
       "    .dataframe thead th {\n",
       "        text-align: right;\n",
       "    }\n",
       "</style>\n",
       "<table border=\"1\" class=\"dataframe\">\n",
       "  <thead>\n",
       "    <tr style=\"text-align: right;\">\n",
       "      <th></th>\n",
       "      <th>content</th>\n",
       "      <th>compound</th>\n",
       "    </tr>\n",
       "  </thead>\n",
       "  <tbody>\n",
       "    <tr>\n",
       "      <td>315</td>\n",
       "      <td>i did answer here anyway</td>\n",
       "      <td>0.9992</td>\n",
       "    </tr>\n",
       "    <tr>\n",
       "      <td>423</td>\n",
       "      <td>i would like to propose that den change its user interface and web services to limit a denizen s evaluation or voting on a content item to a one hour window of time from their first vote     purpose        it would force denizens to make their evaluation early  and to commit to that evaluation       it would solve the issue of people  glomming on  with nrg for content that is obviously becoming more viral        this would possibly also allow the system to retain an all time consensus instead of resetting the consensus process daily  this would help content that may have cyclical attention or regular updates       this would counter the activity that many would consider manipulation especially in small lairs  voting on the same  old post with full nrg daily        increase efficiency and possibly allow a scalable way to reward more trending items          this change should also come with a ui revamp to show more information about the consensus and your evaluation      technical notes    i ve spoken with the services developer about this  and it would definitely be doable  possibly even increasing efficiency and scalability  this fact may be able to increase the number of trending items that would be included in the evaluator pool  if we do that  we may want to look at how we determine and rank trending items  which  should be discussed later  in the governance lair</td>\n",
       "      <td>0.9990</td>\n",
       "    </tr>\n",
       "    <tr>\n",
       "      <td>453</td>\n",
       "      <td>thank you for editing btw</td>\n",
       "      <td>0.9967</td>\n",
       "    </tr>\n",
       "    <tr>\n",
       "      <td>125</td>\n",
       "      <td>best to spend that time        reviewing the white paper    asking questions on the formulas and algorithms    following the incentives    watching your metrics to measure performance     learning what role you are good at and improve    profit       we added the metrics report to help people understand what activities are getting them mtr most efficiently      it is all there  i have experimented with it myself and it does work      right now is the best time as the system is mostly in place  the rewards real  and the competition low  in time  competition will be intense</td>\n",
       "      <td>0.9961</td>\n",
       "    </tr>\n",
       "    <tr>\n",
       "      <td>265</td>\n",
       "      <td>some have purchased on opensea which is a mostly reduced rate  but there is still an eth transaction necessary     some of the answer is just in timing   waiting for the fees to drop as they occasionally will do     in the future  we are considering to propose additional governance votes for holders of mtr and or lor  and that proposal would go through the existing governance process</td>\n",
       "      <td>0.9918</td>\n",
       "    </tr>\n",
       "    <tr>\n",
       "      <td>...</td>\n",
       "      <td>...</td>\n",
       "      <td>...</td>\n",
       "    </tr>\n",
       "    <tr>\n",
       "      <td>446</td>\n",
       "      <td>this post should not be in the lcp lair     please delete</td>\n",
       "      <td>0.5267</td>\n",
       "    </tr>\n",
       "    <tr>\n",
       "      <td>361</td>\n",
       "      <td>yes  already reported   should be addressed soon</td>\n",
       "      <td>0.5253</td>\n",
       "    </tr>\n",
       "    <tr>\n",
       "      <td>62</td>\n",
       "      <td>if you ask me  he is a nation state actor</td>\n",
       "      <td>0.5106</td>\n",
       "    </tr>\n",
       "    <tr>\n",
       "      <td>335</td>\n",
       "      <td>ok  we are looking     please also see here     i made comments there as well  i think it is something with cache  but will research</td>\n",
       "      <td>0.5095</td>\n",
       "    </tr>\n",
       "    <tr>\n",
       "      <td>157</td>\n",
       "      <td>depends on the attacker i suppose     many nation states would probably have access to databases  legally or not  that could map this one and then tie it to your accounts  same user id on multiple platforms yes    just a matter of crawling through all of them for partial dox  friends  interests  etc     you were former military so i am sure you are on a few lists  with the ccp compromise of the opm database  10  years of info on all us parties with any security clearance    a massive leak  means that a lot more people know who you are than should     and that is without considering what us intel and amd have in that chip  another reason that we need to recover manufacturing from communist china      i am probably wrong about a lot of this   i am no expert at blackhat stuffs  just try to learn always what i can and follow best practices  as a dev</td>\n",
       "      <td>0.5023</td>\n",
       "    </tr>\n",
       "  </tbody>\n",
       "</table>\n",
       "<p>179 rows × 2 columns</p>\n",
       "</div>"
      ],
      "text/plain": [
       "                                                                                                                                                                                                                                                                                                                                                                                                                                                                                                                                                                                                                                                                                                                                                                                                                                                                                                                                                                                                                                                                                                                                                                                                                                                                                                                                                                                                                                             content  \\\n",
       "315   i did answer here anyway                                                                                                                                                                                                                                                                                                                                                                                                                                                                                                                                                                                                                                                                                                                                                                                                                                                                                                                                                                                                                                                                                                                                                                                                                                                                                                                                                                                                                         \n",
       "423   i would like to propose that den change its user interface and web services to limit a denizen s evaluation or voting on a content item to a one hour window of time from their first vote     purpose        it would force denizens to make their evaluation early  and to commit to that evaluation       it would solve the issue of people  glomming on  with nrg for content that is obviously becoming more viral        this would possibly also allow the system to retain an all time consensus instead of resetting the consensus process daily  this would help content that may have cyclical attention or regular updates       this would counter the activity that many would consider manipulation especially in small lairs  voting on the same  old post with full nrg daily        increase efficiency and possibly allow a scalable way to reward more trending items          this change should also come with a ui revamp to show more information about the consensus and your evaluation      technical notes    i ve spoken with the services developer about this  and it would definitely be doable  possibly even increasing efficiency and scalability  this fact may be able to increase the number of trending items that would be included in the evaluator pool  if we do that  we may want to look at how we determine and rank trending items  which  should be discussed later  in the governance lair     \n",
       "453   thank you for editing btw                                                                                                                                                                                                                                                                                                                                                                                                                                                                                                                                                                                                                                                                                                                                                                                                                                                                                                                                                                                                                                                                                                                                                                                                                                                                                                                                                                                                                        \n",
       "125   best to spend that time        reviewing the white paper    asking questions on the formulas and algorithms    following the incentives    watching your metrics to measure performance     learning what role you are good at and improve    profit       we added the metrics report to help people understand what activities are getting them mtr most efficiently      it is all there  i have experimented with it myself and it does work      right now is the best time as the system is mostly in place  the rewards real  and the competition low  in time  competition will be intense                                                                                                                                                                                                                                                                                                                                                                                                                                                                                                                                                                                                                                                                                                                                                                                                                                               \n",
       "265   some have purchased on opensea which is a mostly reduced rate  but there is still an eth transaction necessary     some of the answer is just in timing   waiting for the fees to drop as they occasionally will do     in the future  we are considering to propose additional governance votes for holders of mtr and or lor  and that proposal would go through the existing governance process                                                                                                                                                                                                                                                                                                                                                                                                                                                                                                                                                                                                                                                                                                                                                                                                                                                                                                                                                                                                                                               \n",
       "..                                                                                                                                                                                                                                                                                                                                                                                                      ...                                                                                                                                                                                                                                                                                                                                                                                                                                                                                                                                                                                                                                                                                                                                                                                                                                                                                                                                                                                                                                            \n",
       "446   this post should not be in the lcp lair     please delete                                                                                                                                                                                                                                                                                                                                                                                                                                                                                                                                                                                                                                                                                                                                                                                                                                                                                                                                                                                                                                                                                                                                                                                                                                                                                                                                                                                        \n",
       "361   yes  already reported   should be addressed soon                                                                                                                                                                                                                                                                                                                                                                                                                                                                                                                                                                                                                                                                                                                                                                                                                                                                                                                                                                                                                                                                                                                                                                                                                                                                                                                                                                                                 \n",
       "62    if you ask me  he is a nation state actor                                                                                                                                                                                                                                                                                                                                                                                                                                                                                                                                                                                                                                                                                                                                                                                                                                                                                                                                                                                                                                                                                                                                                                                                                                                                                                                                                                                                        \n",
       "335   ok  we are looking     please also see here     i made comments there as well  i think it is something with cache  but will research                                                                                                                                                                                                                                                                                                                                                                                                                                                                                                                                                                                                                                                                                                                                                                                                                                                                                                                                                                                                                                                                                                                                                                                                                                                                                                             \n",
       "157   depends on the attacker i suppose     many nation states would probably have access to databases  legally or not  that could map this one and then tie it to your accounts  same user id on multiple platforms yes    just a matter of crawling through all of them for partial dox  friends  interests  etc     you were former military so i am sure you are on a few lists  with the ccp compromise of the opm database  10  years of info on all us parties with any security clearance    a massive leak  means that a lot more people know who you are than should     and that is without considering what us intel and amd have in that chip  another reason that we need to recover manufacturing from communist china      i am probably wrong about a lot of this   i am no expert at blackhat stuffs  just try to learn always what i can and follow best practices  as a dev                                                                                                                                                                                                                                                                                                                                                                                                                                                                                                                                                        \n",
       "\n",
       "     compound  \n",
       "315  0.9992    \n",
       "423  0.9990    \n",
       "453  0.9967    \n",
       "125  0.9961    \n",
       "265  0.9918    \n",
       "..      ...    \n",
       "446  0.5267    \n",
       "361  0.5253    \n",
       "62   0.5106    \n",
       "335  0.5095    \n",
       "157  0.5023    \n",
       "\n",
       "[179 rows x 2 columns]"
      ]
     },
     "execution_count": 72,
     "metadata": {},
     "output_type": "execute_result"
    }
   ],
   "source": [
    "happy_button(nltk_data_sent)"
   ]
  },
  {
   "cell_type": "markdown",
   "metadata": {},
   "source": [
    "### Function to check sentiment score before posting"
   ]
  },
  {
   "cell_type": "code",
   "execution_count": 89,
   "metadata": {},
   "outputs": [],
   "source": [
    "def dont_post(input_list):\n",
    "    output = bool  \n",
    "    if 'no' in input_list or 'bye' in input_list or 'stop' in input_list or 'quit' in input_list:\n",
    "        return True\n",
    "    return False"
   ]
  },
  {
   "cell_type": "code",
   "execution_count": 91,
   "metadata": {},
   "outputs": [],
   "source": [
    "def do_post(input_list):\n",
    "    output = bool  \n",
    "    if 'yes' in input_list or 'ok' in input_list or 'go' in input_list:\n",
    "        return True\n",
    "    return False"
   ]
  },
  {
   "cell_type": "code",
   "execution_count": 100,
   "metadata": {},
   "outputs": [],
   "source": [
    "def check_sentiment():\n",
    "    \n",
    "    # list to store user post if they intend to post\n",
    "    msg_list = []\n",
    "    \n",
    "    #create sentiment dataframe here\n",
    "    msg = input('Message :\\t')\n",
    "    d = {'content': [msg]}\n",
    "    df = pd.DataFrame(data=d)\n",
    "    \n",
    "    # specify data for sentiment analysis\n",
    "    nltk_data = df\n",
    "    \n",
    "    # tokenize, stem, and remove stop words\n",
    "    nltk_data['token'] = nltk_data['content'].apply(word_tokenize)\n",
    "    stop_words = set(stopwords.words('english'))\n",
    "    nltk_data['stop'] = nltk_data['token'].apply(lambda x: [item for item in x if item not in stop_words])\n",
    "    nltk_data['stem'] = nltk_data['stop'].apply(lambda x: [ps.stem(y) for y in x])\n",
    "    stem_nltk_data = nltk_data['stem'].apply(pd.Series).stack()\n",
    "    \n",
    "    # get list of the 'content' (responses) \n",
    "    nltk_data_list = list(nltk_data['content'].values)\n",
    "    \n",
    "    # get sentiments\n",
    "    nltk_data_sentiments = get_sentiments(nltk_data_list)\n",
    "    \n",
    "    # alert user of sentiment score\n",
    "    print('Sentiment Score:', nltk_data_sentiments['compound'])\n",
    "    print('Are you sure you want to post this?')\n",
    "    \n",
    "    # get user response\n",
    "    chat = True\n",
    "    while chat:\n",
    "        user_input = input('User Input :\\t')\n",
    "        out_msg = None\n",
    "        \n",
    "        # Check for an end msg \n",
    "        if dont_post(user_input):\n",
    "            out_msg = 'Removing post'\n",
    "            chat = False\n",
    "            \n",
    "        if do_post(user_input):\n",
    "            out_msg = 'Okay, posting'\n",
    "            chat = False\n",
    "            #now we will store the message to be posted\n",
    "            msg_list.append(msg)\n",
    "\n",
    "        print(out_msg)\n",
    "        \n",
    "        if msg_list is not None:\n",
    "            print('User Post:',msg)"
   ]
  },
  {
   "cell_type": "code",
   "execution_count": 102,
   "metadata": {
    "scrolled": true
   },
   "outputs": [
    {
     "name": "stdout",
     "output_type": "stream",
     "text": [
      "Message :\tOwen is the best, i love that guy.\n",
      "Sentiment Score: 0    0.8555\n",
      "Name: compound, dtype: float64\n",
      "Are you sure you want to post this?\n",
      "User Input :\tyes\n",
      "Okay, posting\n",
      "User Post: Owen is the best, i love that guy.\n"
     ]
    }
   ],
   "source": [
    "check_sentiment()"
   ]
  },
  {
   "cell_type": "code",
   "execution_count": null,
   "metadata": {},
   "outputs": [],
   "source": []
  }
 ],
 "metadata": {
  "kernelspec": {
   "display_name": "Python 3",
   "language": "python",
   "name": "python3"
  },
  "language_info": {
   "codemirror_mode": {
    "name": "ipython",
    "version": 3
   },
   "file_extension": ".py",
   "mimetype": "text/x-python",
   "name": "python",
   "nbconvert_exporter": "python",
   "pygments_lexer": "ipython3",
   "version": "3.7.4"
  }
 },
 "nbformat": 4,
 "nbformat_minor": 2
}
