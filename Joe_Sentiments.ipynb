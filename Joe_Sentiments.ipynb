{
 "cells": [
  {
   "cell_type": "markdown",
   "metadata": {},
   "source": [
    "# Sentiment Analysis: Joe"
   ]
  },
  {
   "cell_type": "markdown",
   "metadata": {},
   "source": [
    "In this file we look at Joes sentiment score globally, his most frequently use words across all lairs, and his most positive and most negative posts across all lairs"
   ]
  },
  {
   "cell_type": "markdown",
   "metadata": {},
   "source": [
    "### Imports"
   ]
  },
  {
   "cell_type": "code",
   "execution_count": 43,
   "metadata": {},
   "outputs": [],
   "source": [
    "import pandas as pd\n",
    "import re, string, unicodedata\n",
    "import warnings\n",
    "from pandas.core.common import SettingWithCopyWarning\n",
    "warnings.simplefilter(action=\"ignore\", category=SettingWithCopyWarning)\n",
    "warnings.simplefilter(action='ignore', category=FutureWarning)\n",
    "warnings.filterwarnings(\"ignore\", category=DeprecationWarning) "
   ]
  },
  {
   "cell_type": "markdown",
   "metadata": {},
   "source": [
    "### Read in the data"
   ]
  },
  {
   "cell_type": "code",
   "execution_count": 44,
   "metadata": {},
   "outputs": [],
   "source": [
    "#Here we take data previously made into a csv file \n",
    "df =pd.read_csv('user_ids and their posts.csv')\n",
    "pd.set_option('display.max_colwidth', -1)"
   ]
  },
  {
   "cell_type": "markdown",
   "metadata": {},
   "source": [
    "### Functions to clean data"
   ]
  },
  {
   "cell_type": "code",
   "execution_count": 45,
   "metadata": {},
   "outputs": [],
   "source": [
    "def clean_content(df):\n",
    "    \"\"\"\n",
    "    Cleans up the column by removing incidents of '\\r', '\\n' and, '\\n\\n' in a dataframe\n",
    "    simply pass in a dataframe with 'content column'\n",
    "    \"\"\"\n",
    "    df['content'] = df['content'].apply(lambda x: x.replace('\\n',' ')) \n",
    "    df['content'] = df['content'].apply(lambda x: x.replace('\\r',' '))\n",
    "    df['content'] = df['content'].apply(lambda x: x.replace('\\n\\n',' '))\n",
    "    df['content'] = df['content'].apply(lambda x: x.replace('\\r\\n',' '))\n",
    "    df['content'] = df['content'].apply(lambda x: x.replace('34',' '))\n",
    "    df['content'] = df['content'].apply(lambda x: x.replace('39',' '))"
   ]
  },
  {
   "cell_type": "code",
   "execution_count": 46,
   "metadata": {},
   "outputs": [],
   "source": [
    "def clean_string(string):\n",
    "    \"\"\"\n",
    "    Removes unsightly html code in a given string\n",
    "    \"\"\"\n",
    "    string = string.lower()\n",
    "    string = re.sub(r\"http\\S+\", \"\", string)\n",
    "#     clean0 = re.compile(r'</code></pre>')\n",
    "#     out = re.sub(clean0,' ', string)\n",
    "    clean = re.compile('<.*?>')\n",
    "    out = re.sub(clean,' ', string)\n",
    "    clean1 = r'^https?:\\/\\/.*[\\r\\n]*'\n",
    "    out = re.sub(clean1,' ', out)\n",
    "    clean2 = re.compile(r'[^\\w\\s]')\n",
    "    out = re.sub(clean2,' ', out)\n",
    "    return out"
   ]
  },
  {
   "cell_type": "code",
   "execution_count": 47,
   "metadata": {},
   "outputs": [
    {
     "data": {
      "text/plain": [
       "'You all cannot expand contractions I would think'"
      ]
     },
     "execution_count": 47,
     "metadata": {},
     "output_type": "execute_result"
    }
   ],
   "source": [
    "# dictionary of all possible contractions\n",
    "CONTRACTION_MAP = {\n",
    "\"ain't\": \"is not\",\"aren't\": \"are not\",\"can't\": \"cannot\",\"can't've\": \"cannot have\",\"'cause\": \"because\",\n",
    "\"could've\": \"could have\",\"couldn't\": \"could not\",\"couldn't've\": \"could not have\",\"didn't\": \"did not\",\n",
    "\"doesn't\": \"does not\",\"don't\": \"do not\",\"hadn't\": \"had not\",\"hadn't've\": \"had not have\",\"hasn't\": \"has not\",\n",
    "\"haven't\": \"have not\",\"he'd\": \"he would\",\"he'd've\": \"he would have\",\"he'll\": \"he will\",\"he'll've\": \"he he will have\",\n",
    "\"he's\": \"he is\",\"how'd\": \"how did\",\"how'd'y\": \"how do you\",\"how'll\": \"how will\",\"how's\": \"how is\",\"I'd\": \"I would\",\n",
    "\"I'd've\": \"I would have\",\"I'll\": \"I will\",\"I'll've\": \"I will have\",\"I'm\": \"I am\",\"I've\": \"I have\",\"i'd\": \"i would\",\n",
    "\"i'd've\": \"i would have\",\"i'll\": \"i will\",\"i'll've\": \"i will have\",\"i'm\": \"i am\",\"i've\": \"i have\",\"isn't\": \"is not\",\n",
    "\"it'd\": \"it would\",\"it'd've\": \"it would have\",\"it'll\": \"it will\",\"it'll've\": \"it will have\",\"it's\": \"it is\",\n",
    "\"let's\": \"let us\",\"ma'am\": \"madam\",\"mayn't\": \"may not\",\"might've\": \"might have\",\"mightn't\": \"might not\",\n",
    "\"mightn't've\": \"might not have\",\"must've\": \"must have\",\"mustn't\": \"must not\",\"mustn't've\": \"must not have\",\n",
    "\"needn't\": \"need not\",\"needn't've\": \"need not have\",\"o'clock\": \"of the clock\",\"oughtn't\": \"ought not\",\n",
    "\"oughtn't've\": \"ought not have\",\"shan't\": \"shall not\",\"sha'n't\": \"shall not\",\"shan't've\": \"shall not have\",\n",
    "\"she'd\": \"she would\",\"she'd've\": \"she would have\",\"she'll\": \"she will\",\"she'll've\": \"she will have\",\"she's\": \"she is\",\n",
    "\"should've\": \"should have\",\"shouldn't\": \"should not\",\"shouldn't've\": \"should not have\",\"so've\": \"so have\",\n",
    "\"so's\": \"so as\",\"that'd\": \"that would\",\"that'd've\": \"that would have\",\"that's\": \"that is\",\"there'd\": \"there would\",\n",
    "\"there'd've\": \"there would have\",\"there's\": \"there is\",\"they'd\": \"they would\",\"they'd've\": \"they would have\",\n",
    "\"they'll\": \"they will\",\"they'll've\": \"they will have\",\"they're\": \"they are\",\"they've\": \"they have\",\"to've\": \"to have\",\n",
    "\"wasn't\": \"was not\",\"we'd\": \"we would\",\"we'd've\": \"we would have\",\"we'll\": \"we will\",\"we'll've\": \"we will have\",\n",
    "\"we're\": \"we are\",\"we've\": \"we have\",\"weren't\": \"were not\",\"what'll\": \"what will\",\"what'll've\": \"what will have\",\n",
    "\"what're\": \"what are\",\"what's\": \"what is\",\"what've\": \"what have\",\"when's\": \"when is\",\"when've\": \"when have\",\n",
    "\"where'd\": \"where did\",\"where's\": \"where is\",\"where've\": \"where have\",\"who'll\": \"who will\",\n",
    "\"who'll've\": \"who will have\",\"who's\": \"who is\",\"who've\": \"who have\",\"why's\": \"why is\",\"why've\": \"why have\",\n",
    "\"will've\": \"will have\",\"won't\": \"will not\",\"won't've\": \"will not have\",\"would've\": \"would have\",\n",
    "\"wouldn't\": \"would not\",\"wouldn't've\": \"would not have\",\"y'all\": \"you all\",\"y'all'd\": \"you all would\",\n",
    "\"y'all'd've\": \"you all would have\",\"y'all're\": \"you all are\",\"y'all've\": \"you all have\",\"you'd\": \"you would\",\n",
    "\"you'd've\": \"you would have\",\"you'll\": \"you will\",\"you'll've\": \"you will have\",\"you're\": \"you are\",\"you've\": \"you have\"\n",
    "}\n",
    "\n",
    "# function to expand contractions in text\n",
    "def expand_contractions(text, contraction_mapping=CONTRACTION_MAP):\n",
    "    \"\"\"\n",
    "    Expands any contractions within a given string\n",
    "    \"\"\"\n",
    "\n",
    "    contractions_pattern = re.compile('({})'.format('|'.join(contraction_mapping.keys())), \n",
    "                                      flags=re.IGNORECASE|re.DOTALL)\n",
    "    def expand_match(contraction):\n",
    "        match = contraction.group(0)\n",
    "        first_char = match[0]\n",
    "        expanded_contraction = contraction_mapping.get(match)\\\n",
    "                                if contraction_mapping.get(match)\\\n",
    "                                else contraction_mapping.get(match.lower())\n",
    "        expanded_contraction = first_char+expanded_contraction[1:]\n",
    "        return expanded_contraction\n",
    "\n",
    "    expanded_text = contractions_pattern.sub(expand_match, text)\n",
    "    expanded_text = re.sub(\"'\", \"\", expanded_text)\n",
    "    return expanded_text\n",
    "\n",
    "expand_contractions(\"Y'all can't expand contractions I'd think\")"
   ]
  },
  {
   "cell_type": "markdown",
   "metadata": {},
   "source": [
    "### Cleaning up Joe's comments"
   ]
  },
  {
   "cell_type": "code",
   "execution_count": 48,
   "metadata": {},
   "outputs": [],
   "source": [
    "# The steps are important in this function because in order to remove punctations represented as\n",
    "# html code such an apostrophe which looks like  #&39 = \"'\", we hade to replace the html with a \n",
    "# parser which replaced it with the punctuation, then expanded the contractions back out that way\n",
    "# we didnt lose any of the meaning of the words. \n",
    "\n",
    "import html.parser as htmlparser\n",
    "parser = htmlparser.HTMLParser()\n",
    "\n",
    "def clean_comments(df):\n",
    "\n",
    "    df = df.apply(str)\n",
    "    df = df.apply(parser.unescape)\n",
    "    df = df.apply(str)\n",
    "    df = df.apply(expand_contractions)\n",
    "    df = df.apply(str)\n",
    "    df = df.apply(clean_string)\n",
    "    df = pd.DataFrame(df)\n",
    "    df.columns =['content']\n",
    "    df = df[df != 'nan']\n",
    "    df = clean_content(df)\n",
    "    \n",
    "    return df"
   ]
  },
  {
   "cell_type": "code",
   "execution_count": 49,
   "metadata": {},
   "outputs": [],
   "source": [
    "clean_comments(df)"
   ]
  },
  {
   "cell_type": "markdown",
   "metadata": {},
   "source": [
    "### Running sentiment analysis on Joe's comments"
   ]
  },
  {
   "cell_type": "code",
   "execution_count": 50,
   "metadata": {},
   "outputs": [
    {
     "name": "stderr",
     "output_type": "stream",
     "text": [
      "[nltk_data] Downloading package vader_lexicon to\n",
      "[nltk_data]     /home/tshaw/nltk_data...\n",
      "[nltk_data]   Package vader_lexicon is already up-to-date!\n",
      "[nltk_data] Downloading package punkt to /home/tshaw/nltk_data...\n",
      "[nltk_data]   Package punkt is already up-to-date!\n",
      "[nltk_data] Downloading package stopwords to /home/tshaw/nltk_data...\n",
      "[nltk_data]   Package stopwords is already up-to-date!\n"
     ]
    }
   ],
   "source": [
    "#import natural language toolkit\n",
    "import nltk\n",
    "from nltk.corpus import stopwords\n",
    "from nltk.stem import PorterStemmer\n",
    "ps = PorterStemmer()\n",
    "from nltk.sentiment.vader import SentimentIntensityAnalyzer \n",
    "analyser = SentimentIntensityAnalyzer()\n",
    "from nltk.probability import FreqDist\n",
    "import string\n",
    "\n",
    "## import word tokenizer\n",
    "from nltk.tokenize import word_tokenize\n",
    "from nltk.sentiment.vader import SentimentIntensityAnalyzer \n",
    "\n",
    "# get lexicon \n",
    "nltk.download('vader_lexicon') \n",
    "nltk.download('punkt')\n",
    "nltk.download('stopwords')\n",
    "\n",
    "#specify dataframe here\n",
    "nltk_data = df_joe\n",
    "\n",
    "# tokenize, stem, and remove stop words\n",
    "nltk_data['token'] = nltk_data['content'].apply(word_tokenize)\n",
    "stop_words = set(stopwords.words('english'))\n",
    "nltk_data['stop'] = nltk_data['token'].apply(lambda x: [item for item in x if item not in stop_words])\n",
    "nltk_data['stem'] = nltk_data['stop'].apply(lambda x: [ps.stem(y) for y in x])\n",
    "stem_nltk_data = nltk_data['stem'].apply(pd.Series).stack()\n",
    "\n",
    "# calculate word frequency\n",
    "fdist_nltk_data = FreqDist(stem_nltk_data)\n",
    "\n",
    "# remove punctuation counts\n",
    "for punc in string.punctuation:\n",
    "    del fdist_nltk_data[punc]\n",
    "\n",
    "# get list of the 'content' (responses) \n",
    "nltk_data_list = list(nltk_data['content'].values)"
   ]
  },
  {
   "cell_type": "code",
   "execution_count": 51,
   "metadata": {},
   "outputs": [
    {
     "data": {
      "image/png": "[encoded data removed]",
      "text/plain": [
       "<Figure size 432x288 with 1 Axes>"
      ]
     },
     "metadata": {
      "needs_background": "light"
     },
     "output_type": "display_data"
    }
   ],
   "source": [
    "# This is a global analysis of Joes Comments across every lair\n",
    "\n",
    "# Frequency Distribution Plot - top 20\n",
    "# run cell twice if freq dist plot doesn't appear\n",
    "fdist_nltk_data.plot(20, cumulative=False);"
   ]
  },
  {
   "cell_type": "code",
   "execution_count": 52,
   "metadata": {},
   "outputs": [],
   "source": [
    "# create function that will output dataframe \n",
    "# that stores sentiment information\n",
    "def get_sentiments(input_list):\n",
    "    \"\"\"\n",
    "    output dataframe that stores sentiment information\n",
    "    \"\"\"\n",
    "    output = pd.DataFrame()\n",
    "    \n",
    "    for sentence in input_list:\n",
    "        ss = analyser.polarity_scores(sentence)\n",
    "        ss['sentence'] = sentence\n",
    "        output = output.append(ss, ignore_index=True)\n",
    "\n",
    "    return output"
   ]
  },
  {
   "cell_type": "code",
   "execution_count": 53,
   "metadata": {},
   "outputs": [
    {
     "data": {
      "text/html": [
       "<div>\n",
       "<style scoped>\n",
       "    .dataframe tbody tr th:only-of-type {\n",
       "        vertical-align: middle;\n",
       "    }\n",
       "\n",
       "    .dataframe tbody tr th {\n",
       "        vertical-align: top;\n",
       "    }\n",
       "\n",
       "    .dataframe thead th {\n",
       "        text-align: right;\n",
       "    }\n",
       "</style>\n",
       "<table border=\"1\" class=\"dataframe\">\n",
       "  <thead>\n",
       "    <tr style=\"text-align: right;\">\n",
       "      <th></th>\n",
       "      <th>compound</th>\n",
       "      <th>neg</th>\n",
       "      <th>neu</th>\n",
       "      <th>pos</th>\n",
       "      <th>sentence</th>\n",
       "    </tr>\n",
       "  </thead>\n",
       "  <tbody>\n",
       "    <tr>\n",
       "      <th>0</th>\n",
       "      <td>-0.0721</td>\n",
       "      <td>0.371</td>\n",
       "      <td>0.299</td>\n",
       "      <td>0.329</td>\n",
       "      <td>yeah  not masks haha</td>\n",
       "    </tr>\n",
       "    <tr>\n",
       "      <th>1</th>\n",
       "      <td>-0.4939</td>\n",
       "      <td>0.248</td>\n",
       "      <td>0.641</td>\n",
       "      <td>0.111</td>\n",
       "      <td>right wing  selfish  and reckless tiger refuses to double mask even to protect other residents of sanctuary     cnn</td>\n",
       "    </tr>\n",
       "    <tr>\n",
       "      <th>2</th>\n",
       "      <td>0.0000</td>\n",
       "      <td>0.000</td>\n",
       "      <td>1.000</td>\n",
       "      <td>0.000</td>\n",
       "      <td>check this out</td>\n",
       "    </tr>\n",
       "    <tr>\n",
       "      <th>3</th>\n",
       "      <td>-0.7003</td>\n",
       "      <td>0.163</td>\n",
       "      <td>0.781</td>\n",
       "      <td>0.056</td>\n",
       "      <td>lemmings  rude lemmings  some people are just trash and you should be content that you would not do the same to them     i think that people that jog with a mask on are stupid myself  do not do that     these same kids probably wear their mask in the car alone  and in bed alone at night hahaha</td>\n",
       "    </tr>\n",
       "    <tr>\n",
       "      <th>4</th>\n",
       "      <td>-0.3612</td>\n",
       "      <td>0.333</td>\n",
       "      <td>0.667</td>\n",
       "      <td>0.000</td>\n",
       "      <td>elon musk is science denier     reeeeeeeeeeeeeee</td>\n",
       "    </tr>\n",
       "  </tbody>\n",
       "</table>\n",
       "</div>"
      ],
      "text/plain": [
       "   compound    neg    neu    pos  \\\n",
       "0 -0.0721    0.371  0.299  0.329   \n",
       "1 -0.4939    0.248  0.641  0.111   \n",
       "2  0.0000    0.000  1.000  0.000   \n",
       "3 -0.7003    0.163  0.781  0.056   \n",
       "4 -0.3612    0.333  0.667  0.000   \n",
       "\n",
       "                                                                                                                                                                                                                                                                                                    sentence  \n",
       "0   yeah  not masks haha                                                                                                                                                                                                                                                                                      \n",
       "1    right wing  selfish  and reckless tiger refuses to double mask even to protect other residents of sanctuary     cnn                                                                                                                                                                                      \n",
       "2   check this out                                                                                                                                                                                                                                                                                            \n",
       "3   lemmings  rude lemmings  some people are just trash and you should be content that you would not do the same to them     i think that people that jog with a mask on are stupid myself  do not do that     these same kids probably wear their mask in the car alone  and in bed alone at night hahaha    \n",
       "4   elon musk is science denier     reeeeeeeeeeeeeee                                                                                                                                                                                                                                                          "
      ]
     },
     "execution_count": 53,
     "metadata": {},
     "output_type": "execute_result"
    }
   ],
   "source": [
    "# use the get sentiments function on nltk processed joe data\n",
    "nltk_data_sentiments = get_sentiments(nltk_data_list)\n",
    "nltk_data_sentiments.head()"
   ]
  },
  {
   "cell_type": "code",
   "execution_count": 54,
   "metadata": {},
   "outputs": [
    {
     "data": {
      "text/html": [
       "<div>\n",
       "<style scoped>\n",
       "    .dataframe tbody tr th:only-of-type {\n",
       "        vertical-align: middle;\n",
       "    }\n",
       "\n",
       "    .dataframe tbody tr th {\n",
       "        vertical-align: top;\n",
       "    }\n",
       "\n",
       "    .dataframe thead th {\n",
       "        text-align: right;\n",
       "    }\n",
       "</style>\n",
       "<table border=\"1\" class=\"dataframe\">\n",
       "  <thead>\n",
       "    <tr style=\"text-align: right;\">\n",
       "      <th></th>\n",
       "      <th>content</th>\n",
       "      <th>stem</th>\n",
       "      <th>pos</th>\n",
       "      <th>neg</th>\n",
       "      <th>neu</th>\n",
       "      <th>compound</th>\n",
       "    </tr>\n",
       "  </thead>\n",
       "  <tbody>\n",
       "    <tr>\n",
       "      <th>0</th>\n",
       "      <td>yeah  not masks haha</td>\n",
       "      <td>[yeah, mask, haha]</td>\n",
       "      <td>0.329</td>\n",
       "      <td>0.371</td>\n",
       "      <td>0.299</td>\n",
       "      <td>-0.0721</td>\n",
       "    </tr>\n",
       "    <tr>\n",
       "      <th>1</th>\n",
       "      <td>right wing  selfish  and reckless tiger refuses to double mask even to protect other residents of sanctuary     cnn</td>\n",
       "      <td>[right, wing, selfish, reckless, tiger, refus, doubl, mask, even, protect, resid, sanctuari, cnn]</td>\n",
       "      <td>0.111</td>\n",
       "      <td>0.248</td>\n",
       "      <td>0.641</td>\n",
       "      <td>-0.4939</td>\n",
       "    </tr>\n",
       "    <tr>\n",
       "      <th>2</th>\n",
       "      <td>check this out</td>\n",
       "      <td>[check]</td>\n",
       "      <td>0.000</td>\n",
       "      <td>0.000</td>\n",
       "      <td>1.000</td>\n",
       "      <td>0.0000</td>\n",
       "    </tr>\n",
       "    <tr>\n",
       "      <th>3</th>\n",
       "      <td>lemmings  rude lemmings  some people are just trash and you should be content that you would not do the same to them     i think that people that jog with a mask on are stupid myself  do not do that     these same kids probably wear their mask in the car alone  and in bed alone at night hahaha</td>\n",
       "      <td>[lem, rude, lem, peopl, trash, content, would, think, peopl, jog, mask, stupid, kid, probabl, wear, mask, car, alon, bed, alon, night, hahaha]</td>\n",
       "      <td>0.056</td>\n",
       "      <td>0.163</td>\n",
       "      <td>0.781</td>\n",
       "      <td>-0.7003</td>\n",
       "    </tr>\n",
       "    <tr>\n",
       "      <th>4</th>\n",
       "      <td>elon musk is science denier     reeeeeeeeeeeeeee</td>\n",
       "      <td>[elon, musk, scienc, denier, reeeeeeeeeeeeeee]</td>\n",
       "      <td>0.000</td>\n",
       "      <td>0.333</td>\n",
       "      <td>0.667</td>\n",
       "      <td>-0.3612</td>\n",
       "    </tr>\n",
       "  </tbody>\n",
       "</table>\n",
       "</div>"
      ],
      "text/plain": [
       "                                                                                                                                                                                                                                                                                                     content  \\\n",
       "0   yeah  not masks haha                                                                                                                                                                                                                                                                                       \n",
       "1    right wing  selfish  and reckless tiger refuses to double mask even to protect other residents of sanctuary     cnn                                                                                                                                                                                       \n",
       "2   check this out                                                                                                                                                                                                                                                                                             \n",
       "3   lemmings  rude lemmings  some people are just trash and you should be content that you would not do the same to them     i think that people that jog with a mask on are stupid myself  do not do that     these same kids probably wear their mask in the car alone  and in bed alone at night hahaha     \n",
       "4   elon musk is science denier     reeeeeeeeeeeeeee                                                                                                                                                                                                                                                           \n",
       "\n",
       "                                                                                                                                             stem  \\\n",
       "0  [yeah, mask, haha]                                                                                                                               \n",
       "1  [right, wing, selfish, reckless, tiger, refus, doubl, mask, even, protect, resid, sanctuari, cnn]                                                \n",
       "2  [check]                                                                                                                                          \n",
       "3  [lem, rude, lem, peopl, trash, content, would, think, peopl, jog, mask, stupid, kid, probabl, wear, mask, car, alon, bed, alon, night, hahaha]   \n",
       "4  [elon, musk, scienc, denier, reeeeeeeeeeeeeee]                                                                                                   \n",
       "\n",
       "     pos    neg    neu  compound  \n",
       "0  0.329  0.371  0.299 -0.0721    \n",
       "1  0.111  0.248  0.641 -0.4939    \n",
       "2  0.000  0.000  1.000  0.0000    \n",
       "3  0.056  0.163  0.781 -0.7003    \n",
       "4  0.000  0.333  0.667 -0.3612    "
      ]
     },
     "execution_count": 54,
     "metadata": {},
     "output_type": "execute_result"
    }
   ],
   "source": [
    "# drop token and stop columns for nltk data and create pos, neg, neu, compound columns\n",
    "nltk_data_sent = nltk_data.drop(['token','stop'],axis=1)\\\n",
    ".assign(pos=nltk_data_sentiments['pos'])\\\n",
    ".assign(neg=nltk_data_sentiments['neg'])\\\n",
    ".assign(neu=nltk_data_sentiments['neu'])\\\n",
    ".assign(compound=nltk_data_sentiments['compound'])\n",
    "\n",
    "nltk_data_sent.head()"
   ]
  },
  {
   "cell_type": "code",
   "execution_count": 55,
   "metadata": {},
   "outputs": [
    {
     "data": {
      "text/plain": [
       "0.31640368852459005"
      ]
     },
     "execution_count": 55,
     "metadata": {},
     "output_type": "execute_result"
    }
   ],
   "source": [
    "# check out joes global sentiment score\n",
    "joe_global_sentiment = nltk_data_sent[\"compound\"].mean()\n",
    "joe_global_sentiment"
   ]
  },
  {
   "cell_type": "code",
   "execution_count": 56,
   "metadata": {},
   "outputs": [
    {
     "data": {
      "text/html": [
       "<div>\n",
       "<style scoped>\n",
       "    .dataframe tbody tr th:only-of-type {\n",
       "        vertical-align: middle;\n",
       "    }\n",
       "\n",
       "    .dataframe tbody tr th {\n",
       "        vertical-align: top;\n",
       "    }\n",
       "\n",
       "    .dataframe thead th {\n",
       "        text-align: right;\n",
       "    }\n",
       "</style>\n",
       "<table border=\"1\" class=\"dataframe\">\n",
       "  <thead>\n",
       "    <tr style=\"text-align: right;\">\n",
       "      <th></th>\n",
       "      <th>content</th>\n",
       "      <th>stem</th>\n",
       "      <th>pos</th>\n",
       "      <th>neg</th>\n",
       "      <th>neu</th>\n",
       "      <th>compound</th>\n",
       "    </tr>\n",
       "  </thead>\n",
       "  <tbody>\n",
       "    <tr>\n",
       "      <th>136</th>\n",
       "      <td>if we do not know the winner by monday morning  i will claim victory</td>\n",
       "      <td>[know, winner, monday, morn, claim, victori]</td>\n",
       "      <td>0.108</td>\n",
       "      <td>0.237</td>\n",
       "      <td>0.655</td>\n",
       "      <td>-0.9954</td>\n",
       "    </tr>\n",
       "  </tbody>\n",
       "</table>\n",
       "</div>"
      ],
      "text/plain": [
       "                                                                     content  \\\n",
       "136   if we do not know the winner by monday morning  i will claim victory     \n",
       "\n",
       "                                             stem    pos    neg    neu  \\\n",
       "136  [know, winner, monday, morn, claim, victori]  0.108  0.237  0.655   \n",
       "\n",
       "     compound  \n",
       "136 -0.9954    "
      ]
     },
     "execution_count": 56,
     "metadata": {},
     "output_type": "execute_result"
    }
   ],
   "source": [
    "# see where the most negative message is located\n",
    "nltk_data_sent['compound'].argmin()\n",
    "# look at the most negative column\n",
    "nltk_data_sent.loc[[136]]"
   ]
  },
  {
   "cell_type": "code",
   "execution_count": 57,
   "metadata": {},
   "outputs": [
    {
     "data": {
      "text/html": [
       "<div>\n",
       "<style scoped>\n",
       "    .dataframe tbody tr th:only-of-type {\n",
       "        vertical-align: middle;\n",
       "    }\n",
       "\n",
       "    .dataframe tbody tr th {\n",
       "        vertical-align: top;\n",
       "    }\n",
       "\n",
       "    .dataframe thead th {\n",
       "        text-align: right;\n",
       "    }\n",
       "</style>\n",
       "<table border=\"1\" class=\"dataframe\">\n",
       "  <thead>\n",
       "    <tr style=\"text-align: right;\">\n",
       "      <th></th>\n",
       "      <th>content</th>\n",
       "      <th>stem</th>\n",
       "      <th>pos</th>\n",
       "      <th>neg</th>\n",
       "      <th>neu</th>\n",
       "      <th>compound</th>\n",
       "    </tr>\n",
       "  </thead>\n",
       "  <tbody>\n",
       "    <tr>\n",
       "      <th>310</th>\n",
       "      <td>we should all be grateful that one of our devs did an analysis on a saturday morning  good guy  amazing dev     here are his results           the negative nrg completely negated their positive nrg  the 0 15 902649 642112 mtr they earned is the total from evaluation  mtr use  and nrg use        so  sorry that you had so much negative nrg  but that result is expected     i will ask the dev if we can improve the estimates in a case like this  thankfully it should not happen too often that you get so much negative nrg</td>\n",
       "      <td>[grate, one, dev, analysi, saturday, morn, good, guy, amaz, dev, result, neg, nrg, complet, negat, posit, nrg, 0, 15, 902649, 642112, mtr, earn, total, evalu, mtr, use, nrg, use, sorri, much, neg, nrg, result, expect, ask, dev, improv, estim, case, like, thank, happen, often, get, much, neg, nrg]</td>\n",
       "      <td>0.0</td>\n",
       "      <td>0.0</td>\n",
       "      <td>1.0</td>\n",
       "      <td>0.0</td>\n",
       "    </tr>\n",
       "  </tbody>\n",
       "</table>\n",
       "</div>"
      ],
      "text/plain": [
       "                                                                                                                                                                                                                                                                                                                                                                                                                                                                                                                                         content  \\\n",
       "310   we should all be grateful that one of our devs did an analysis on a saturday morning  good guy  amazing dev     here are his results           the negative nrg completely negated their positive nrg  the 0 15 902649 642112 mtr they earned is the total from evaluation  mtr use  and nrg use        so  sorry that you had so much negative nrg  but that result is expected     i will ask the dev if we can improve the estimates in a case like this  thankfully it should not happen too often that you get so much negative nrg     \n",
       "\n",
       "                                                                                                                                                                                                                                                                                                          stem  \\\n",
       "310  [grate, one, dev, analysi, saturday, morn, good, guy, amaz, dev, result, neg, nrg, complet, negat, posit, nrg, 0, 15, 902649, 642112, mtr, earn, total, evalu, mtr, use, nrg, use, sorri, much, neg, nrg, result, expect, ask, dev, improv, estim, case, like, thank, happen, often, get, much, neg, nrg]   \n",
       "\n",
       "     pos  neg  neu  compound  \n",
       "310  0.0  0.0  1.0  0.0       "
      ]
     },
     "execution_count": 57,
     "metadata": {},
     "output_type": "execute_result"
    }
   ],
   "source": [
    "# see where the most postive message\n",
    "nltk_data_sent['compound'].argmax()\n",
    "nltk_data_sent.loc[[310]]"
   ]
  },
  {
   "cell_type": "code",
   "execution_count": null,
   "metadata": {},
   "outputs": [],
   "source": []
  },
  {
   "cell_type": "code",
   "execution_count": null,
   "metadata": {},
   "outputs": [],
   "source": []
  }
 ],
 "metadata": {
  "kernelspec": {
   "display_name": "Python 3",
   "language": "python",
   "name": "python3"
  },
  "language_info": {
   "codemirror_mode": {
    "name": "ipython",
    "version": 3
   },
   "file_extension": ".py",
   "mimetype": "text/x-python",
   "name": "python",
   "nbconvert_exporter": "python",
   "pygments_lexer": "ipython3",
   "version": "3.7.6"
  }
 },
 "nbformat": 4,
 "nbformat_minor": 2
}
